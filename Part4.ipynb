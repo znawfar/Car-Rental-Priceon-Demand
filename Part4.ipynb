{
 "cells": [
  {
   "attachments": {},
   "cell_type": "markdown",
   "metadata": {},
   "source": [
    "# Optimization"
   ]
  },
  {
   "attachments": {},
   "cell_type": "markdown",
   "metadata": {},
   "source": [
    "With a trained and refined model, I want to use it to optimize pricing strategies for different types of cars and locations, etc. For example, I can use the model to identify optimal rental prices for different times of the year or different locations."
   ]
  },
  {
   "cell_type": "code",
   "execution_count": 1,
   "metadata": {},
   "outputs": [],
   "source": [
    "import pandas as pd\n",
    "import numpy as np\n",
    "import matplotlib.pyplot as plt\n",
    "%matplotlib inline\n",
    "import seaborn as sns\n",
    "import plotly_express as px\n",
    "import plotly.graph_objects as go\n",
    "sns.set()\n",
    "from pandas.io.json import json_normalize "
   ]
  },
  {
   "cell_type": "code",
   "execution_count": 7,
   "metadata": {},
   "outputs": [],
   "source": [
    "# import all what you need for machine learning\n",
    "import sklearn\n",
    "from sklearn.model_selection import cross_val_predict\n",
    "from sklearn.model_selection import cross_val_score\n",
    "from sklearn.model_selection import cross_validate\n",
    "from sklearn.model_selection import train_test_split\n",
    "from sklearn.linear_model import LinearRegression\n",
    "from sklearn.ensemble import RandomForestRegressor\n",
    "from sklearn.tree import DecisionTreeRegressor\n",
    "from sklearn.model_selection import RandomizedSearchCV\n",
    "from sklearn.model_selection import GridSearchCV\n",
    "from sklearn.linear_model import LinearRegression\n",
    "from sklearn.preprocessing import RobustScaler\n",
    "import xgboost as xgb\n",
    "from sklearn.metrics import mean_squared_error"
   ]
  },
  {
   "cell_type": "code",
   "execution_count": 8,
   "metadata": {},
   "outputs": [],
   "source": [
    "import pickle\n",
    "\n",
    "# Load the saved model from a file\n",
    "filename = 'xgboost_model.pkl'\n",
    "xgb_model = pickle.load(open(filename, 'rb'))"
   ]
  },
  {
   "cell_type": "code",
   "execution_count": 9,
   "metadata": {},
   "outputs": [],
   "source": [
    "cars = pd.read_csv('./DataFeatures.csv')"
   ]
  },
  {
   "cell_type": "code",
   "execution_count": 10,
   "metadata": {},
   "outputs": [
    {
     "name": "stdout",
     "output_type": "stream",
     "text": [
      "x train:  (29023, 16)\n",
      "x test:  (7256, 16)\n",
      "y train:  (29023,)\n",
      "y test:  (7256,)\n"
     ]
    }
   ],
   "source": [
    "from sklearn.preprocessing import StandardScaler\n",
    "\n",
    "#Let's drop the irrelevant columns\n",
    "cars2 = cars.drop([\"city\",\"state\",'reviewCount','id',\n",
    "                   'population','automaticTransmission','newListing','Unnamed: 0'], axis=1).copy() \n",
    "# Separating target variable and its features\n",
    "y2 = cars2['averageDailyPrice']\n",
    "X2 = cars2.drop('averageDailyPrice',axis=1)\n",
    "\n",
    "# define standard scaler\n",
    "scaler = StandardScaler()\n",
    "# transform data\n",
    "cars_main2 = scaler.fit_transform(X2)\n",
    "\n",
    "from sklearn.model_selection import train_test_split\n",
    "X_train2, X_test2, y_train2, y_test2 = train_test_split(cars_main2, y2, test_size=0.2, random_state=None)\n",
    "print(\"x train: \",X_train2.shape)\n",
    "print(\"x test: \",X_test2.shape)\n",
    "print(\"y train: \",y_train2.shape)\n",
    "print(\"y test: \",y_test2.shape)"
   ]
  },
  {
   "cell_type": "code",
   "execution_count": 11,
   "metadata": {},
   "outputs": [
    {
     "name": "stdout",
     "output_type": "stream",
     "text": [
      "[21:41:02] WARNING: C:\\buildkite-agent\\builds\\buildkite-windows-cpu-autoscaling-group-i-07593ffd91cd9da33-1\\xgboost\\xgboost-ci-windows\\src\\objective\\regression_obj.cu:213: reg:linear is now deprecated in favor of reg:squarederror.\n"
     ]
    },
    {
     "name": "stderr",
     "output_type": "stream",
     "text": [
      "C:\\Users\\zinat\\AppData\\Local\\Temp\\ipykernel_2052\\435414177.py:10: SettingWithCopyWarning: \n",
      "A value is trying to be set on a copy of a slice from a DataFrame.\n",
      "Try using .loc[row_indexer,col_indexer] = value instead\n",
      "\n",
      "See the caveats in the documentation: https://pandas.pydata.org/pandas-docs/stable/user_guide/indexing.html#returning-a-view-versus-a-copy\n",
      "  XX['predicted_price'] = xg_reg_opt.predict(dset, output_margin=True)\n"
     ]
    }
   ],
   "source": [
    "# Define the input features for the model\n",
    "selected_features = ['longitude', 'latitude','scalar','model', 'make', 'year', 'weekday','month','rating','type']\n",
    "XX = X2[selected_features]\n",
    "\n",
    "dset = xgb.DMatrix(data=XX,label=y2)\n",
    "params = {\"objective\":\"reg:linear\",'colsample_bytree': 0.4,'learning_rate': 0.3,\n",
    "                'max_depth': 10, 'alpha': 10, 'gamma':5}\n",
    "xg_reg_opt = xgb.train(params=params, dtrain=dset, num_boost_round=10)\n",
    "\n",
    "XX['predicted_price'] = xg_reg_opt.predict(dset, output_margin=True)"
   ]
  },
  {
   "cell_type": "code",
   "execution_count": 12,
   "metadata": {},
   "outputs": [
    {
     "data": {
      "text/plain": [
       "month  model  type\n",
       "1      1      1        55.491905\n",
       "       4      1        64.450043\n",
       "       5      4        91.797653\n",
       "       6      1       118.146225\n",
       "       7      1        52.618988\n",
       "       8      1       102.810669\n",
       "       9      1        61.694462\n",
       "       12     1       144.071259\n",
       "       16     1        40.410622\n",
       "       17     1        77.137711\n",
       "       18     1        97.181183\n",
       "       19     1        98.967751\n",
       "       20     1        93.402977\n",
       "       27     1        72.443359\n",
       "       31     1        94.457817\n",
       "       32     1        90.560684\n",
       "       34     1       121.713257\n",
       "       35     1       108.354111\n",
       "       36     1       134.108643\n",
       "       41     1       683.640991\n",
       "       46     3        86.469803\n",
       "       47     2        34.919464\n",
       "       48     1        99.636932\n",
       "       49     1       109.524994\n",
       "       50     1        48.720589\n",
       "       51     1       103.226540\n",
       "       52     3        68.243935\n",
       "       53     1        45.475372\n",
       "       55     1        31.233871\n",
       "       56     1       116.904228\n",
       "       57     1       138.644684\n",
       "       59     1       164.752396\n",
       "       60     1       155.494781\n",
       "       61     1       444.699493\n",
       "       65     1        48.761539\n",
       "Name: predicted_price, dtype: float32"
      ]
     },
     "execution_count": 12,
     "metadata": {},
     "output_type": "execute_result"
    }
   ],
   "source": [
    "# Group the data by MODEL and month, and compute the mean predicted price\n",
    "grouped_data = XX.groupby(['month','model','type'])['predicted_price'].mean()\n",
    "# Print the optimized prices for each location and month\n",
    "grouped_data.head(35)"
   ]
  },
  {
   "attachments": {},
   "cell_type": "markdown",
   "metadata": {},
   "source": [
    "I can easily modify this code to optimize prices for different types of cars by adding a new feature to the data that represents the car type or model. For example, you could add a feature that indicates whether the car is a sedan, SUV, or sports car, and use this feature to group the data and compute the optimized prices."
   ]
  },
  {
   "attachments": {},
   "cell_type": "markdown",
   "metadata": {},
   "source": [
    "I can use the trained XGBoost model to simulate the impact of different pricing strategies and adjust prices accordingly"
   ]
  },
  {
   "cell_type": "code",
   "execution_count": 13,
   "metadata": {},
   "outputs": [
    {
     "name": "stdout",
     "output_type": "stream",
     "text": [
      "Current revenue: $3575893.00\n",
      "Simulated revenue: $2769274.00\n",
      "Optimal revenue: $2942354.00\n"
     ]
    },
    {
     "name": "stderr",
     "output_type": "stream",
     "text": [
      "C:\\Users\\zinat\\AppData\\Local\\Temp\\ipykernel_2052\\4927778.py:5: SettingWithCopyWarning: \n",
      "A value is trying to be set on a copy of a slice from a DataFrame.\n",
      "Try using .loc[row_indexer,col_indexer] = value instead\n",
      "\n",
      "See the caveats in the documentation: https://pandas.pydata.org/pandas-docs/stable/user_guide/indexing.html#returning-a-view-versus-a-copy\n",
      "  XX['predicted_price'] = xg_reg_opt.predict(xgb.DMatrix(XX.drop(['predicted_price'], axis=1)))\n",
      "C:\\Users\\zinat\\AppData\\Local\\Temp\\ipykernel_2052\\4927778.py:8: SettingWithCopyWarning: \n",
      "A value is trying to be set on a copy of a slice from a DataFrame.\n",
      "Try using .loc[row_indexer,col_indexer] = value instead\n",
      "\n",
      "See the caveats in the documentation: https://pandas.pydata.org/pandas-docs/stable/user_guide/indexing.html#returning-a-view-versus-a-copy\n",
      "  XX['simulated_price'] = XX['predicted_price'] * pricing_strategy\n",
      "C:\\Users\\zinat\\AppData\\Local\\Temp\\ipykernel_2052\\4927778.py:27: SettingWithCopyWarning: \n",
      "A value is trying to be set on a copy of a slice from a DataFrame.\n",
      "Try using .loc[row_indexer,col_indexer] = value instead\n",
      "\n",
      "See the caveats in the documentation: https://pandas.pydata.org/pandas-docs/stable/user_guide/indexing.html#returning-a-view-versus-a-copy\n",
      "  XX['optimal_price'] = XX['predicted_price'] * optimal_pricing_strategy\n"
     ]
    }
   ],
   "source": [
    "# Define the pricing strategy to simulate\n",
    "pricing_strategy = 0.8  # 80% of the predicted rental price\n",
    "\n",
    "# Predict the rental price with the trained model\n",
    "XX['predicted_price'] = xg_reg_opt.predict(xgb.DMatrix(XX.drop(['predicted_price'], axis=1)))\n",
    "\n",
    "# Simulate the rental price based on the pricing strategy\n",
    "XX['simulated_price'] = XX['predicted_price'] * pricing_strategy\n",
    "\n",
    "# Calculate the revenue for the current pricing strategy\n",
    "revenue_current = (y2).sum()\n",
    "\n",
    "# Calculate the revenue for the simulated pricing strategy\n",
    "revenue_simulated = (XX['simulated_price']).sum()\n",
    "\n",
    "# Print the revenue for both strategies\n",
    "print('Current revenue: ${:.2f}'.format(revenue_current))\n",
    "print('Simulated revenue: ${:.2f}'.format(revenue_simulated))\n",
    "\n",
    "# If the simulated revenue is higher, adjust the pricing strategy accordingly\n",
    "if revenue_simulated > revenue_current:\n",
    "    optimal_pricing_strategy = pricing_strategy\n",
    "else:\n",
    "    optimal_pricing_strategy = pricing_strategy + 0.05  # increase the pricing strategy by 5%\n",
    "\n",
    "# Simulate the rental price based on the optimal pricing strategy\n",
    "XX['optimal_price'] = XX['predicted_price'] * optimal_pricing_strategy\n",
    "\n",
    "# Calculate the revenue for the optimal pricing strategy\n",
    "revenue_optimal = (XX['optimal_price']).sum()\n",
    "\n",
    "# Print the revenue for the optimal pricing strategy\n",
    "print('Optimal revenue: ${:.2f}'.format(revenue_optimal))"
   ]
  },
  {
   "attachments": {},
   "cell_type": "markdown",
   "metadata": {},
   "source": [
    "he reason for increasing the prices by 5% in the above code is to simulate a scenario where the company decides to adjust its pricing strategy.<br>\n",
    "<br>\n",
    "If the simulated revenue is less than the current revenue, it suggests that the current pricing strategy is generating more revenue than the simulated one. However, the company might still want to explore the possibility of increasing its prices to see if it can generate even more revenue.<br>\n",
    "<br>\n",
    "So, by increasing the prices by 5%, I am simulating a scenario where the company is testing a new pricing strategy that is slightly more aggressive than the current one. The company can then compare the simulated revenue with the current revenue to determine if the new pricing strategy is generating more revenue.<br>\n",
    "<br>\n",
    "Of course, in a real-world scenario, the company would need to carefully consider the impact of any pricing adjustments on customer demand, competition, and other factors before making any changes to its pricing strategy."
   ]
  },
  {
   "attachments": {},
   "cell_type": "markdown",
   "metadata": {},
   "source": [
    "# Risk assessment"
   ]
  },
  {
   "attachments": {},
   "cell_type": "markdown",
   "metadata": {},
   "source": [
    "To minimize the risk and optimize the pricing strategy, I incorporate some logic into the code that automatically adjusts the prices based on the demand for cars. Here's one approach:<br>\n",
    "<br>\n",
    "*Identify slow periods*: We can first identify the slow periods by analyzing historical rental data and looking for patterns in demand. For example, if demand is consistently lower during certain times of the year or days of the week, we can label those periods as slow periods.<br>\n",
    "<br>\n",
    "*Apply discounts during slow periods*: During slow periods, we can offer discounts to incentivize customers to rent our cars. We can use the following code to apply a discount of 10% during the slow periods.<br>\n",
    "<br>\n",
    "*Increase prices for high-demand cars*: Similarly, if certain types of cars or locations are in high demand, we can increase the rental price to maximize revenue. We can use the following code to increase the rental price by 5% for high-demand cars:"
   ]
  },
  {
   "attachments": {},
   "cell_type": "markdown",
   "metadata": {},
   "source": [
    "By incorporating above logic into our pricing strategy, we can dynamically adjust our prices to maximize revenue and minimize risk."
   ]
  },
  {
   "cell_type": "code",
   "execution_count": 14,
   "metadata": {},
   "outputs": [],
   "source": [
    "\n",
    "# Identify slow periods\n",
    "slow_periods = [2, 3, 4, 10, 11]  # February-April, October-November\n",
    "\n",
    "# Identify high-demand cars\n",
    "high_demand_cars = [3, 5]  # SUV and van cars #{'type': {'car': 1, 'minivan': 2, 'suv': 3, 'truck': 4, 'van': 5}}"
   ]
  },
  {
   "cell_type": "code",
   "execution_count": 15,
   "metadata": {},
   "outputs": [],
   "source": [
    "# Train model\n",
    "dtrain = xgb.DMatrix(X2, label=y2)\n",
    "params = {'objective': 'reg:squarederror'}\n",
    "xg_model = xgb.train(params, dtrain)"
   ]
  },
  {
   "cell_type": "code",
   "execution_count": 16,
   "metadata": {},
   "outputs": [],
   "source": [
    "rental_price = xg_model.predict(xgb.DMatrix(X2.loc[(X2['type'] == 1) & (X2['month'] == 1)]))"
   ]
  },
  {
   "attachments": {},
   "cell_type": "markdown",
   "metadata": {},
   "source": [
    "Sample of demand curve"
   ]
  },
  {
   "cell_type": "code",
   "execution_count": 18,
   "metadata": {},
   "outputs": [
    {
     "name": "stdout",
     "output_type": "stream",
     "text": [
      "y = 35.32540 * x^2 + -0.99954 *x + -30.52206\n"
     ]
    }
   ],
   "source": [
    "from scipy.optimize import curve_fit\n",
    "\n",
    "# define the true objective function\n",
    "def objective(x, a, b, c):\n",
    " return a * x** + b*x + c\n",
    "\n",
    "# choose the input and output variables\n",
    "# curve fit\n",
    "popt, _ = curve_fit(objective, y2, X2[\"rating\"])\n",
    "# summarize the parameter values\n",
    "a, b, c = popt\n",
    "print('y = %.5f * x^2 + %.5f *x + %.5f' % (a, b, c))"
   ]
  },
  {
   "cell_type": "code",
   "execution_count": 19,
   "metadata": {},
   "outputs": [],
   "source": [
    "def demand_curve(price):\n",
    "    demand = objective(price, a, b, c)\n",
    "    demand[demand < 0] = 0\n",
    "    return demand"
   ]
  },
  {
   "attachments": {},
   "cell_type": "markdown",
   "metadata": {},
   "source": [
    "Simulate pricing strategies"
   ]
  },
  {
   "cell_type": "code",
   "execution_count": 20,
   "metadata": {},
   "outputs": [
    {
     "name": "stdout",
     "output_type": "stream",
     "text": [
      "1 in month 7:\n",
      "1 in month 4:\n",
      "1 in month 9:\n",
      "1 in month 11:\n",
      "1 in month 5:\n",
      "1 in month 6:\n",
      "1 in month 2:\n",
      "1 in month 12:\n",
      "1 in month 3:\n",
      "1 in month 1:\n",
      "1 in month 8:\n",
      "1 in month 10:\n",
      "3 in month 7:\n",
      "3 in month 4:\n",
      "3 in month 9:\n",
      "3 in month 11:\n",
      "3 in month 5:\n",
      "3 in month 6:\n",
      "3 in month 2:\n",
      "3 in month 12:\n",
      "3 in month 3:\n",
      "3 in month 1:\n",
      "3 in month 8:\n",
      "3 in month 10:\n",
      "4 in month 7:\n",
      "4 in month 4:\n",
      "4 in month 9:\n",
      "4 in month 11:\n",
      "4 in month 5:\n",
      "4 in month 6:\n",
      "4 in month 2:\n",
      "4 in month 12:\n",
      "4 in month 3:\n",
      "4 in month 1:\n",
      "4 in month 8:\n",
      "4 in month 10:\n",
      "2 in month 7:\n",
      "2 in month 4:\n",
      "2 in month 9:\n",
      "2 in month 11:\n",
      "2 in month 5:\n",
      "2 in month 6:\n",
      "2 in month 2:\n",
      "2 in month 12:\n",
      "2 in month 3:\n",
      "2 in month 1:\n",
      "2 in month 8:\n",
      "2 in month 10:\n",
      "5 in month 7:\n",
      "5 in month 4:\n",
      "5 in month 9:\n",
      "[21:47:45] WARNING: C:\\buildkite-agent\\builds\\buildkite-windows-cpu-autoscaling-group-i-07593ffd91cd9da33-1\\xgboost\\xgboost-ci-windows\\src\\learner.cc:1517: Empty dataset at worker: 0\n",
      "5 in month 11:\n",
      "5 in month 5:\n",
      "5 in month 6:\n",
      "5 in month 2:\n",
      "5 in month 12:\n",
      "5 in month 3:\n",
      "[21:47:45] WARNING: C:\\buildkite-agent\\builds\\buildkite-windows-cpu-autoscaling-group-i-07593ffd91cd9da33-1\\xgboost\\xgboost-ci-windows\\src\\learner.cc:1517: Empty dataset at worker: 0\n",
      "5 in month 1:\n",
      "[21:47:45] WARNING: C:\\buildkite-agent\\builds\\buildkite-windows-cpu-autoscaling-group-i-07593ffd91cd9da33-1\\xgboost\\xgboost-ci-windows\\src\\learner.cc:1517: Empty dataset at worker: 0\n",
      "5 in month 8:\n",
      "5 in month 10:\n"
     ]
    }
   ],
   "source": [
    "for car_type in X2['type'].unique():\n",
    "    for month in X2['month'].unique():\n",
    "        # Set rental price\n",
    "        rental_price = xg_model.predict(xgb.DMatrix(X2.loc[(X2['type'] == car_type) & (X2['month'] == month)]))\n",
    "        \n",
    "        # Adjust prices for slow periods\n",
    "        if month in slow_periods:\n",
    "            # Apply discount\n",
    "            rental_price *= 0.9\n",
    "\n",
    "        # Adjust prices for high-demand cars\n",
    "        if car_type in high_demand_cars:\n",
    "            # Increase price\n",
    "            rental_price *= 1.05\n",
    "\n",
    "        # Simulate rental\n",
    "        demand = demand_curve(rental_price)\n",
    "\n",
    "        # Calculate revenue\n",
    "        revenue_current = 1 * rental_price\n",
    "        revenue_simulated = demand * rental_price\n",
    "        \n",
    "        for i in range(len(rental_price)):\n",
    "            if revenue_simulated[i] < revenue_current[i]:\n",
    "                # Apply 5% increase\n",
    "                rental_price[i] *= 1.05\n",
    "\n",
    "        # Print results\n",
    "        print(f\"{car_type} in month {month}:\")\n",
    "        #print(f\"Current rental price: {rental_price:.2f}\")\n",
    "        #print(f\"Current demand: {demand}\")\n",
    "        #print(f\"Current revenue: {revenue_current:.2f}\")\n",
    "        #print(f\"Simulated revenue: {revenue_simulated:.2f}\\n\")"
   ]
  },
  {
   "attachments": {},
   "cell_type": "markdown",
   "metadata": {},
   "source": [
    "Following has not been completed yet!"
   ]
  },
  {
   "cell_type": "code",
   "execution_count": null,
   "metadata": {},
   "outputs": [],
   "source": [
    "def optimize_prices(model, demand_curve, rental_data):\n",
    "    \"\"\"\n",
    "    Optimize rental prices for different types of cars and locations based on the given model\n",
    "    and demand curve.\n",
    "    \n",
    "    Parameters:\n",
    "        model (xgboost.Booster): Trained XGBoost model for predicting rental prices.\n",
    "        demand_curve (list): List of demand curve coefficients.\n",
    "        rental_data (pandas.DataFrame): DataFrame containing rental data.\n",
    "        \n",
    "    Returns:\n",
    "        optimized_prices (pandas.DataFrame): DataFrame containing optimized rental prices.\n",
    "    \"\"\"\n",
    "    # Make a copy of the rental data to avoid modifying the original DataFrame\n",
    "    rental_data_copy = rental_data.copy()\n",
    "    \n",
    "    # Calculate current revenue and demand for each rental listing\n",
    "    rental_data_copy['revenue_current'] = rental_data_copy['averageDailyPrice'] * rental_data_copy['renterTripsTaken']\n",
    "    rental_data_copy['demand_current'] = rental_data_copy['averageDailyPrice'].apply(lambda x: simulate_demand(x, demand_curve))\n",
    "    \n",
    "    # Loop over each rental listing and simulate the impact of a 5% price increase\n",
    "    for i in range(len(rental_data_copy)):\n",
    "        # Get the current rental price and demand\n",
    "        price_current = rental_data_copy.loc[i, 'averageDailyPrice']\n",
    "        demand_current = rental_data_copy.loc[i, 'demand_current']\n",
    "        \n",
    "        # Simulate demand for a 5% increase in rental price\n",
    "        price_increased = price_current * 1.05\n",
    "        demand_simulated = simulate_demand(price_increased, demand_curve)\n",
    "        \n",
    "        # Calculate the potential revenue for the increased price\n",
    "        revenue_simulated = demand_simulated * price_increased\n",
    "        \n",
    "        # If the potential revenue is higher than the current revenue, increase the rental price by 5%\n",
    "        if revenue_simulated > rental_data_copy.loc[i, 'revenue_current']:\n",
    "            rental_data_copy.loc[i, 'averageDailyPrice'] = price_increased\n",
    "    \n",
    "    # Return the optimized rental prices\n",
    "    optimized_prices = rental_data_copy[['id', 'make', 'model', 'year', 'type', 'averageDailyPrice']]\n",
    "    \n",
    "    return optimized_prices"
   ]
  }
 ],
 "metadata": {
  "kernelspec": {
   "display_name": "Python 3",
   "language": "python",
   "name": "python3"
  },
  "language_info": {
   "codemirror_mode": {
    "name": "ipython",
    "version": 3
   },
   "file_extension": ".py",
   "mimetype": "text/x-python",
   "name": "python",
   "nbconvert_exporter": "python",
   "pygments_lexer": "ipython3",
   "version": "3.9.7"
  },
  "orig_nbformat": 4
 },
 "nbformat": 4,
 "nbformat_minor": 2
}


